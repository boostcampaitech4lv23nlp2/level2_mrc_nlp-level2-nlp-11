{
 "cells": [
  {
   "cell_type": "code",
   "execution_count": 21,
   "metadata": {},
   "outputs": [],
   "source": [
    "import os\n",
    "import json\n",
    "from collections import defaultdict, Counter"
   ]
  },
  {
   "cell_type": "code",
   "execution_count": 22,
   "metadata": {},
   "outputs": [
    {
     "name": "stdout",
     "output_type": "stream",
     "text": [
      "['nbest_predictions.json']\n",
      "<_io.TextIOWrapper name='../ensemble/n_best/nbest_predictions.json' mode='r' encoding='utf-8'>\n"
     ]
    }
   ],
   "source": [
    "file_path = '../ensemble/n_best'\n",
    "\n",
    "json_file_path = []\n",
    "json_files = []\n",
    "\n",
    "total_count = 0\n",
    "for json_path in os.listdir(file_path) :\n",
    "    if json_path.endswith('.json') :\n",
    "        total_count = total_count + 1\n",
    "        json_file_path.append(json_path)\n",
    "\n",
    "for file in json_file_path :\n",
    "    fp = os.path.join(file_path,file)\n",
    "    with open(fp , \"r\" , encoding='utf-8') as json_file :\n",
    "        json_data = json.load(json_file)\n",
    "        json_files.append(json_data)\n",
    "\n",
    "print(json_file_path)\n",
    "print(json_file)"
   ]
  },
  {
   "cell_type": "code",
   "execution_count": 23,
   "metadata": {},
   "outputs": [],
   "source": [
    "key_list=list(json_files[0].keys())                   # predictions.json의 key값들 설정\n",
    "bin=defaultdict(list)                                 # 확률값들을 담을 dict생성-> value : list\n",
    "answer_dict=defaultdict(list)                         # 최종 답변을 넣을 dict 생성 -> value : list\n",
    "\n",
    "for i in range(len(key_list)):                        #defaultdict : key만 선언하면 value는 '' 빈 값\n",
    "    bin[key_list[i]] = []                                 \n",
    "    answer_dict[key_list[i]] = []\n",
    "\n",
    "for json_file in json_files:                          # N개의 nbest_predictions 파일들\n",
    "    for kl in key_list:                               # 600개의 key\n",
    "        for i in range(total_count):                            # nbest_size : 20                       \n",
    "            bin[kl].append((json_file[kl][i]['text'],json_file[kl][i]['probability']))                       "
   ]
  },
  {
   "cell_type": "code",
   "execution_count": 24,
   "metadata": {},
   "outputs": [],
   "source": [
    "for kl in key_list:                                   # 600개의 키\n",
    "    answer_hubo={}\n",
    "    for i in range(len(bin[kl])):                  \n",
    "        if bin[kl][i][0] not in answer_hubo.keys():   # 빈 객체에서 없다면 key 추가\n",
    "            answer_hubo[bin[kl][i][0]]=bin[kl][i][1]\n",
    "        else:\n",
    "            answer_hubo[bin[kl][i][0]]+=bin[kl][i][1] # 있다면 확률값 더하기 -> 이렇게 하지 않으면 dictionary는 자동으로 중복제거(set)\n",
    "    max_answer=max(answer_hubo.keys(),key= lambda prob : answer_hubo[prob])     #최대 확률값을 답변으로\n",
    "    answer_dict[kl]=max_answer"
   ]
  },
  {
   "cell_type": "code",
   "execution_count": 25,
   "metadata": {},
   "outputs": [],
   "source": [
    "new_nbest_json_path = \"../ensemble/output/nbest_ensemble.json\"           # nbest_ensemble.json 저장\n",
    "\n",
    "with open(new_nbest_json_path, 'w', encoding='utf-8') as file:\n",
    "    json.dump(answer_dict, file, indent=4,ensure_ascii=False)"
   ]
  }
 ],
 "metadata": {
  "kernelspec": {
   "display_name": "base",
   "language": "python",
   "name": "python3"
  },
  "language_info": {
   "codemirror_mode": {
    "name": "ipython",
    "version": 3
   },
   "file_extension": ".py",
   "mimetype": "text/x-python",
   "name": "python",
   "nbconvert_exporter": "python",
   "pygments_lexer": "ipython3",
   "version": "3.8.5 (default, Sep  4 2020, 07:30:14) \n[GCC 7.3.0]"
  },
  "orig_nbformat": 4,
  "vscode": {
   "interpreter": {
    "hash": "d4d1e4263499bec80672ea0156c357c1ee493ec2b1c70f0acce89fc37c4a6abe"
   }
  }
 },
 "nbformat": 4,
 "nbformat_minor": 2
}
